{
 "cells": [
  {
   "cell_type": "code",
   "execution_count": null,
   "metadata": {},
   "outputs": [],
   "source": [
    "# Python Knots\n",
    "\n"
   ]
  },
  {
   "cell_type": "code",
   "execution_count": 2,
   "metadata": {},
   "outputs": [
    {
     "name": "stdout",
     "output_type": "stream",
     "text": [
      "False\n",
      "True\n"
     ]
    }
   ],
   "source": [
    "def is_single(n):\n",
    "    return len(set(str(n))) == 1\n",
    "\n",
    "print(is_single(11112111))\n",
    "print(is_single(11111111))"
   ]
  },
  {
   "cell_type": "code",
   "execution_count": 15,
   "metadata": {},
   "outputs": [
    {
     "data": {
      "text/plain": [
       "2"
      ]
     },
     "execution_count": 15,
     "metadata": {},
     "output_type": "execute_result"
    }
   ],
   "source": [
    "def longest_run(n):\n",
    "    longest = 0\n",
    "    current = 0\n",
    "    for i in bin(n)[2:]:\n",
    "        if i == '1':\n",
    "            current += 1\n",
    "        else:\n",
    "            if current > longest:\n",
    "                longest = current\n",
    "            current = 0\n",
    "    return max(current, longest)\n",
    "    \n",
    "longest_run(27)"
   ]
  },
  {
   "cell_type": "code",
   "execution_count": 13,
   "metadata": {},
   "outputs": [
    {
     "data": {
      "text/plain": [
       "2"
      ]
     },
     "execution_count": 13,
     "metadata": {},
     "output_type": "execute_result"
    }
   ],
   "source": [
    "def longest_run2(n):\n",
    "    return max(len(s) for s in bin(n)[2:].split('0'))\n",
    "\n",
    "longest_run2(27)"
   ]
  },
  {
   "cell_type": "markdown",
   "metadata": {},
   "source": [
    "# Perfect numbers"
   ]
  },
  {
   "cell_type": "code",
   "execution_count": 9,
   "metadata": {},
   "outputs": [
    {
     "name": "stdout",
     "output_type": "stream",
     "text": [
      "True\n",
      "False\n"
     ]
    }
   ],
   "source": [
    "def is_perfect(n):\n",
    "    return sum(factors(n)) == n\n",
    "\n",
    "def factors(n):\n",
    "    return [x for x in range(1, n) if n % x == 0]\n",
    "\n",
    "print(is_perfect(6))\n",
    "print(is_perfect(7))"
   ]
  },
  {
   "cell_type": "code",
   "execution_count": 10,
   "metadata": {},
   "outputs": [
    {
     "name": "stdout",
     "output_type": "stream",
     "text": [
      "True\n",
      "False\n"
     ]
    }
   ],
   "source": [
    "def is_perfect(n):\n",
    "    return sum((x for x in range(1, n) if n % x == 0)) == n\n",
    "\n",
    "print(is_perfect(6))\n",
    "print(is_perfect(7))"
   ]
  },
  {
   "cell_type": "markdown",
   "metadata": {},
   "source": [
    "# Page Numbering"
   ]
  },
  {
   "cell_type": "code",
   "execution_count": 26,
   "metadata": {},
   "outputs": [
    {
     "name": "stdout",
     "output_type": "stream",
     "text": [
      "6\n",
      "3\n",
      "18\n"
     ]
    }
   ],
   "source": [
    "rain = [0, 0, 1, 2, 3, 0, 0, 0, 0, 3, 0, 4, 5, 6, 1, 2]\n",
    "\n",
    "from itertools import groupby\n",
    "\n",
    "grps = groupby(rain, lambda x: x > 0)\n",
    "# print(list(grps))\n",
    "for k, v in grps:\n",
    "    if k:\n",
    "        print(sum(v))"
   ]
  },
  {
   "cell_type": "code",
   "execution_count": 6,
   "metadata": {},
   "outputs": [
    {
     "data": {
      "text/plain": [
       "'1,3,5-7,9,11'"
      ]
     },
     "execution_count": 6,
     "metadata": {},
     "output_type": "execute_result"
    }
   ],
   "source": [
    "from itertools import groupby\n",
    "def solution(args):\n",
    "    grps = ([v[1] for v in g] for _,g in \n",
    "        groupby(enumerate(args), lambda p: p[1]-p[0]))\n",
    "    # print(list(grps))\n",
    "    return ','.join('{}{}{}'.format(g[0],'-'\n",
    "        if len(g) > 2 else',',g[-1])\n",
    "        if len(g) > 1 else str(g[0]) for g in grps)\n",
    "\n",
    "pages = [1, 3, 5, 6, 7, 9, 11]\n",
    "solution(pages)"
   ]
  },
  {
   "cell_type": "code",
   "execution_count": 8,
   "metadata": {},
   "outputs": [
    {
     "data": {
      "text/plain": [
       "3524893403366223548655765"
      ]
     },
     "execution_count": 8,
     "metadata": {},
     "output_type": "execute_result"
    }
   ],
   "source": [
    "def josephus(n):\n",
    "    return int(bin(n)[3:] + '1', 2)\n",
    "\n",
    "josephus(4180298340912370123740234)"
   ]
  },
  {
   "cell_type": "code",
   "execution_count": 9,
   "metadata": {},
   "outputs": [
    {
     "name": "stdout",
     "output_type": "stream",
     "text": [
      "7070\n"
     ]
    }
   ],
   "source": [
    "print(int('1101110011110', 2))"
   ]
  },
  {
   "cell_type": "code",
   "execution_count": 4,
   "metadata": {},
   "outputs": [
    {
     "name": "stdout",
     "output_type": "stream",
     "text": [
      "708 µs ± 13 µs per loop (mean ± std. dev. of 7 runs, 1000 loops each)\n"
     ]
    }
   ],
   "source": [
    "def factors(n):\n",
    "    return [x for x in range(1, n) if n % x == 0]\n",
    "\n",
    "%timeit factors(10**4)"
   ]
  },
  {
   "cell_type": "code",
   "execution_count": 14,
   "metadata": {},
   "outputs": [
    {
     "name": "stdout",
     "output_type": "stream",
     "text": [
      "10.9 µs ± 83.3 ns per loop (mean ± std. dev. of 7 runs, 100000 loops each)\n",
      "{1, 2, 4, 5, 5000, 8, 10, 10000, 16, 400, 20, 25, 40, 50, 2500, 200, 2000, 80, 1250, 100, 1000, 625, 500, 250, 125}\n"
     ]
    }
   ],
   "source": [
    "from functools import reduce\n",
    "\n",
    "def ffactors(n):\n",
    "    return set(reduce(list.__add__,\n",
    "        ([i, n//i] for i in range(1, int(n**0.5) \n",
    "         + 1) if n % i == 0)))\n",
    "\n",
    "%timeit ffactors(10**4)\n",
    "print(ffactors(10**4))"
   ]
  },
  {
   "cell_type": "code",
   "execution_count": 15,
   "metadata": {},
   "outputs": [
    {
     "name": "stdout",
     "output_type": "stream",
     "text": [
      "{1, 2, 1250, 2500, 5, 5000, 625, 25, 125}\n"
     ]
    }
   ],
   "source": [
    "def fffactors(n):\n",
    "    f = {1}\n",
    "    cur = 2\n",
    "    while n > 1:\n",
    "        \n",
    "        while n % cur == 0:\n",
    "            n = n // cur\n",
    "            f.add(cur)\n",
    "            f.add(n)\n",
    "        cur += 1\n",
    "    return f    \n",
    "\n",
    "print(fffactors(10**4))    "
   ]
  },
  {
   "cell_type": "code",
   "execution_count": 27,
   "metadata": {},
   "outputs": [
    {
     "data": {
      "text/plain": [
       "4"
      ]
     },
     "execution_count": 27,
     "metadata": {},
     "output_type": "execute_result"
    }
   ],
   "source": [
    "options = [\n",
    "            [8, 1, 6, 3, 5, 7, 4, 9, 2],\n",
    "            [6, 1, 8, 7, 5, 3, 2, 9, 4],\n",
    "            [4, 9, 2, 3, 5, 7, 8, 1, 6],\n",
    "            [2, 9, 4, 7, 5, 3, 6, 1, 8], \n",
    "            [8, 3, 4, 1, 5, 9, 6, 7, 2],\n",
    "            [4, 3, 8, 9, 5, 1, 2, 7, 6], \n",
    "            [6, 7, 2, 1, 5, 9, 8, 3, 4], \n",
    "            [2, 7, 6, 9, 5, 1, 4, 3, 8]]\n",
    "\n",
    "a = [[4, 8, 2],[4, 5, 7], [6, 1, 6]]\n",
    "b = [*a[0], *a[1], *a[2]]\n",
    "result = min(sum(abs(x - y) for x, y in zip(b, o)) for o in options)\n",
    "            \n",
    "result"
   ]
  },
  {
   "cell_type": "markdown",
   "metadata": {},
   "source": [
    "# Anagrams"
   ]
  },
  {
   "cell_type": "code",
   "execution_count": 1,
   "metadata": {},
   "outputs": [
    {
     "name": "stdout",
     "output_type": "stream",
     "text": [
      "True\n",
      "False\n"
     ]
    }
   ],
   "source": [
    "def is_anagram(w1, w2):\n",
    "    return sorted(w1) == sorted(w2)\n",
    "\n",
    "print(is_anagram('pots', 'spot'))\n",
    "print(is_anagram('pots', 'spots'))"
   ]
  },
  {
   "cell_type": "markdown",
   "metadata": {},
   "source": [
    "# Burrows-Wheeler Transform"
   ]
  },
  {
   "cell_type": "code",
   "execution_count": 29,
   "metadata": {},
   "outputs": [
    {
     "name": "stdout",
     "output_type": "stream",
     "text": [
      "ANNB$AA\n"
     ]
    }
   ],
   "source": [
    "\n",
    "\n",
    "string = 'BANANA'\n",
    "string += '$'\n",
    "bwt = sorted([string[i:] + string[:i] \n",
    "    for i in range(len(string))])\n",
    "bwt = \"\".join([s[-1] for s in bwt])\n",
    "print(bwt)"
   ]
  },
  {
   "cell_type": "markdown",
   "metadata": {},
   "source": [
    "# Suffix Array"
   ]
  },
  {
   "cell_type": "code",
   "execution_count": 30,
   "metadata": {},
   "outputs": [
    {
     "name": "stdout",
     "output_type": "stream",
     "text": [
      "12, 0, 4, 8, 1, 5, 9, 2, 6, 10, 3, 7, 11\n"
     ]
    }
   ],
   "source": [
    "word = \"abcdabceabcf$\"\n",
    "\n",
    "a = list(range(len(word)))\n",
    "a.sort(key=lambda x:word[x:])\n",
    "\n",
    "print(\", \".join([str(x) for x in a]))\n"
   ]
  },
  {
   "cell_type": "code",
   "execution_count": 32,
   "metadata": {},
   "outputs": [
    {
     "data": {
      "text/plain": [
       "'27'"
      ]
     },
     "execution_count": 32,
     "metadata": {},
     "output_type": "execute_result"
    }
   ],
   "source": [
    "repr(27)"
   ]
  },
  {
   "cell_type": "code",
   "execution_count": 28,
   "metadata": {},
   "outputs": [
    {
     "name": "stdout",
     "output_type": "stream",
     "text": [
      "False\n"
     ]
    }
   ],
   "source": [
    "from collections import Counter\n",
    "a = 'pots'\n",
    "b = 'spot'\n",
    "\n",
    "print(Counter(a) == Counter(b))"
   ]
  },
  {
   "cell_type": "code",
   "execution_count": 5,
   "metadata": {},
   "outputs": [
    {
     "data": {
      "text/plain": [
       "[(1, <itertools._grouper at 0x10b9e8cf8>),\n",
       " (2, <itertools._grouper at 0x10b9e8ba8>),\n",
       " (4, <itertools._grouper at 0x10b9e8ef0>),\n",
       " (5, <itertools._grouper at 0x10b9e8e10>)]"
      ]
     },
     "execution_count": 5,
     "metadata": {},
     "output_type": "execute_result"
    }
   ],
   "source": [
    "from itertools import groupby\n",
    "args = [1, 3, 4, 5, 6, 9, 11]\n",
    "list(groupby(enumerate(args), lambda p: p[1]-p[0]))\n",
    "# list(enumerate(args))"
   ]
  },
  {
   "cell_type": "code",
   "execution_count": 19,
   "metadata": {},
   "outputs": [
    {
     "data": {
      "text/plain": [
       "'[1, 2, 3, 4, 6]'"
      ]
     },
     "execution_count": 19,
     "metadata": {},
     "output_type": "execute_result"
    }
   ],
   "source": [
    "repr([1, 2, 3, 4, 6])"
   ]
  },
  {
   "cell_type": "code",
   "execution_count": null,
   "metadata": {},
   "outputs": [],
   "source": []
  }
 ],
 "metadata": {
  "kernelspec": {
   "display_name": "Python 3",
   "language": "python",
   "name": "python3"
  },
  "language_info": {
   "codemirror_mode": {
    "name": "ipython",
    "version": 3
   },
   "file_extension": ".py",
   "mimetype": "text/x-python",
   "name": "python",
   "nbconvert_exporter": "python",
   "pygments_lexer": "ipython3",
   "version": "3.6.5"
  }
 },
 "nbformat": 4,
 "nbformat_minor": 2
}
